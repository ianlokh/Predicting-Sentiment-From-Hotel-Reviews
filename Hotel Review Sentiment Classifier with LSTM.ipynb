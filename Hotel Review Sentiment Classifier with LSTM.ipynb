{
 "cells": [
  {
   "cell_type": "code",
   "execution_count": 1,
   "metadata": {},
   "outputs": [
    {
     "name": "stderr",
     "output_type": "stream",
     "text": [
      "Using TensorFlow backend.\n"
     ]
    }
   ],
   "source": [
    "import os\n",
    "import numpy as np # linear algebra\n",
    "import pandas as pd # data processing, CSV file I/O (e.g. pd.read_csv)\n",
    "\n",
    "from sklearn.feature_extraction.text import TfidfVectorizer, CountVectorizer\n",
    "\n",
    "from keras.preprocessing.text import Tokenizer\n",
    "from keras.preprocessing.sequence import pad_sequences\n",
    "from keras.models import Sequential\n",
    "from keras.layers import Dense, Embedding, LSTM, Bidirectional, BatchNormalization, TimeDistributed\n",
    "\n",
    "from sklearn.preprocessing import OneHotEncoder\n",
    "from sklearn.model_selection import train_test_split\n",
    "\n",
    "import gensim\n",
    "from gensim.utils import simple_preprocess\n",
    "\n",
    "#import multiprocessing as mp\n",
    "from multiprocessing import cpu_count\n",
    "\n",
    "# set working directory\n",
    "path = '/Users/ianlo/Documents/Data Analyitcs & Data Science/Deep Learning Developer Course/RNNProject/'\n",
    "os.chdir(path)\n",
    "\n",
    "# import custom files\n",
    "import utils as utils\n",
    "import global_settings as gs\n",
    "from parallelproc import applyParallel"
   ]
  },
  {
   "cell_type": "code",
   "execution_count": 2,
   "metadata": {
    "collapsed": true
   },
   "outputs": [],
   "source": [
    "# tokenizer: can change this as needed\n",
    "tokenize = lambda x: simple_preprocess(x)\n",
    "\n",
    "# set no of groups for partitioning\n",
    "_number_of_groups = int(cpu_count()*0.8)\n",
    "\n",
    "# set no of threads\n",
    "_cpu = int(cpu_count()*0.8)\n",
    "\n",
    "# initialise global parameters\n",
    "gs.init()\n",
    "\n",
    "# max no. of words in a review\n",
    "MAX_SEQUENCE_LENGTH = 300\n",
    "MAX_NB_WORDS = 20000\n",
    "EMBEDDING_DIM = 100\n",
    "BATCH_SIZE = 32\n",
    "EPOCHS = 10"
   ]
  },
  {
   "cell_type": "markdown",
   "metadata": {},
   "source": [
    "Read in xls file, remove duplicates and create index for parallel processing"
   ]
  },
  {
   "cell_type": "code",
   "execution_count": 3,
   "metadata": {
    "collapsed": true
   },
   "outputs": [],
   "source": [
    "# -----------------------------------------------------------------------------\n",
    "# extract all the reviews from the XLS files into a data frame\n",
    "i=1\n",
    "rows = pd.DataFrame()\n",
    "while i <= 1:\n",
    "    rw = utils.readXlsx(\"./data/Train/hotel_sentiment_v01.xlsx\", sheet = i, header=True)\n",
    "    # extend takes the content of another list and adds it into that list\n",
    "    rows = rows.append(rw, ignore_index=True)\n",
    "    i += 1\n",
    "    \n",
    "df = pd.DataFrame(rows)\n",
    "\n",
    "# remove no longer used objects in memory\n",
    "del rw, rows\n",
    "\n",
    "# remove duplicate entries\n",
    "df = df.dropna().drop_duplicates()\n",
    "\n",
    "# create index for easy parallel processing\n",
    "df['indx'] = df.index\n",
    "df.insert(0,'grpId',df.apply(lambda row: row.indx % _number_of_groups, axis=1, raw=True))\n",
    "# drop the temp indx column\n",
    "df = df.drop('indx', 1)"
   ]
  },
  {
   "cell_type": "code",
   "execution_count": 4,
   "metadata": {},
   "outputs": [
    {
     "name": "stdout",
     "output_type": "stream",
     "text": [
      "Starting pre-processing: Clean\n",
      "Starting pre-processing: Lower case\n",
      "Starting pre-processing: Restructure text\n",
      "Starting pre-processing: Remove custom stop words\n"
     ]
    }
   ],
   "source": [
    "print('Starting pre-processing: Clean')\n",
    "df = applyParallel(df.groupby(df.grpId), utils.clean_text, {\"dest_col_ind\": df.shape[1]-1, \"dest_col\": \"processed_text\", \"src_col\": \"review_text\"}, _cpu)\n",
    "\n",
    "\n",
    "print('Starting pre-processing: Lower case')\n",
    "df = applyParallel(df.groupby(df.grpId), utils.lower_case, {\"dest_col_ind\": df.shape[1]-1, \"dest_col\": \"processed_text\", \"src_col\": \"processed_text\"}, _cpu)\n",
    "\n",
    "\n",
    "print('Starting pre-processing: Restructure text')\n",
    "df = applyParallel(df.groupby(df.grpId), utils.restructureText, {\"dest_col_ind\": df.shape[1]-1, \"dest_col\": \"processed_text\", \"src_col\": \"processed_text\"}, _cpu)\n",
    "\n",
    "\n",
    "print('Starting pre-processing: Remove custom stop words')\n",
    "df = applyParallel(df.groupby(df.grpId), utils.remove_stopwords, {\"dest_col_ind\": df.shape[1]-1, \"dest_col\": \"processed_text\", \"src_col\": \"processed_text\"}, _cpu)"
   ]
  },
  {
   "cell_type": "code",
   "execution_count": 5,
   "metadata": {
    "collapsed": true
   },
   "outputs": [],
   "source": [
    "# =============================================================================\n",
    "# find the word frequency and remove non frequent words\n",
    "\n",
    "# the list of words from the corpus that has more than 10 instances\n",
    "# this list will be used to tag the sentences with PAD, EOS, UNK\n",
    "wordlist = utils.get_words_by_freq(df['processed_text'], 10)\n",
    "wordlist.append('PAD')\n",
    "wordlist.append('EOS')\n",
    "wordlist.append('UNK')\n",
    "\n",
    "# substitute everything not in wordlist with PAD, EOS, UNK\n",
    "max_features = 23413\n",
    "tokenizer = Tokenizer(num_words=max_features, split=' ')\n",
    "tokenizer.fit_on_texts(df['processed_text'].values)\n",
    "X = tokenizer.texts_to_sequences(df['processed_text'].values)\n",
    "X = pd.DataFrame(pad_sequences(X, padding='post', truncating='post', maxlen = MAX_SEQUENCE_LENGTH))\n",
    "\n",
    "# get the word index from the tokenizer\n",
    "word_index = tokenizer.word_index\n",
    "word_index['PAD'] = 0\n",
    "word_index['EOS'] = len(word_index)\n",
    "\n",
    "# create index to word list so that we can update the padded sentences with the \n",
    "# special charaters needed\n",
    "# create index to word dictionary\n",
    "index_word = {}\n",
    "for word in word_index.keys():\n",
    "    if word in wordlist:\n",
    "        index_word[word_index.get(word)] = word\n",
    "    else:\n",
    "        index_word[word_index.get(word)] = 'UNK'"
   ]
  },
  {
   "cell_type": "code",
   "execution_count": 6,
   "metadata": {
    "collapsed": true
   },
   "outputs": [],
   "source": [
    "# one hot encode target\n",
    "enc1 = OneHotEncoder()\n",
    "Y = pd.DataFrame(enc1.fit_transform(pd.DataFrame(df.iloc[:,4])).toarray())\n",
    "\n",
    "\n",
    "# create train / test set\n",
    "x_train, x_valid, y_train, y_valid = train_test_split(X,\n",
    "                                                      Y,\n",
    "                                                      test_size = 0.2,\n",
    "                                                      random_state = gs.seedvalue)"
   ]
  },
  {
   "cell_type": "code",
   "execution_count": 7,
   "metadata": {
    "collapsed": true
   },
   "outputs": [],
   "source": [
    "# load a word2vec from google news\n",
    "model = gensim.models.KeyedVectors.load_word2vec_format('./GoogleNews-vectors-negative300.bin', binary=True)  \n",
    "\n",
    "# create a vocab based on the google news vectors model\n",
    "vocab = dict([(k, v.index) for k, v in model.vocab.items()])"
   ]
  },
  {
   "cell_type": "code",
   "execution_count": 8,
   "metadata": {
    "collapsed": true
   },
   "outputs": [],
   "source": [
    "# create the embeddings_index so that we can get the embeddings from the google model\n",
    "# for each word\n",
    "embeddings_index = {}\n",
    "# if word is not found in the google vector then set to 0\n",
    "# otherwise the embeddings_index will have the corresponding google news vector embedding for\n",
    "# the specific word found in the review text\n",
    "for word in word_index.keys():\n",
    "    if vocab.get(word) is not None:\n",
    "        embeddings_index[word] = model.syn0[vocab.get(word)]\n",
    "    else:\n",
    "        embeddings_index[word] = [0] * 300 # default size of google news vector embeddings\n",
    "\n",
    "\n",
    "empty=np.empty(300, dtype=float); empty.fill(0.001) \n",
    "embeddings_index['PAD'] = empty\n",
    "embeddings_index['EOS'] = empty\n",
    "embeddings_index['UNK'] = empty\n",
    "\n",
    "\n",
    "# embedding_dimension is the size of the vector\n",
    "embedding_dimension = 300\n",
    "embedding_matrix = np.zeros((len(word_index) + 1, embedding_dimension))\n",
    "for word, i in word_index.items():\n",
    "    embedding_vector = embeddings_index.get(word)[:embedding_dimension]\n",
    "    if embedding_vector is not None:\n",
    "        # words not found in embedding index will be all-zeros.\n",
    "        embedding_matrix[i] = embedding_vector[:embedding_dimension]"
   ]
  },
  {
   "cell_type": "code",
   "execution_count": null,
   "metadata": {},
   "outputs": [
    {
     "name": "stdout",
     "output_type": "stream",
     "text": [
      "_________________________________________________________________\n",
      "Layer (type)                 Output Shape              Param #   \n",
      "=================================================================\n",
      "embedding_1 (Embedding)      (None, 300, 300)          7023900   \n",
      "_________________________________________________________________\n",
      "bidirectional_1 (Bidirection (None, 2048)              10854400  \n",
      "_________________________________________________________________\n",
      "dense_1 (Dense)              (None, 5)                 10245     \n",
      "=================================================================\n",
      "Total params: 17,888,545\n",
      "Trainable params: 17,888,545\n",
      "Non-trainable params: 0\n",
      "_________________________________________________________________\n",
      "None\n"
     ]
    }
   ],
   "source": [
    "lstm_out = 1024\n",
    "\n",
    "# create the model\n",
    "model = Sequential()\n",
    "model.add(Embedding(max_features, embedding_dimension, input_length = x_train.shape[1], weights=[embedding_matrix], trainable=True))\n",
    "model.add(Bidirectional(LSTM(lstm_out, dropout=0.3, recurrent_dropout=0.3, return_sequences=True)))\n",
    "model.add(Bidirectional(LSTM(lstm_out, dropout=0.3, recurrent_dropout=0.3)))\n",
    "#model.add(Dense(1024, activation='relu'))\n",
    "#model.add(BatchNormalization())\n",
    "model.add(Dense(5, activation='softmax'))\n",
    "\n",
    "# setting up the optimization of our weights\n",
    "#sgd = keras.optimizers.SGD(lr=0.1, decay=1e-6, momentum=0.9, nesterov=True)\n",
    "#adam = keras.optimizers.Adam(lr=0.001, beta_1=0.9, beta_2=0.999, epsilon=1e-08, decay=0.002)\n",
    "#nadam = keras.optimizers.Nadam(lr=0.002, beta_1=0.9, beta_2=0.999, epsilon=1e-08, schedule_decay=0.004)\n",
    "\n",
    "model.compile(loss = 'categorical_crossentropy', optimizer='adam', metrics = ['accuracy'])\n",
    "print(model.summary())"
   ]
  },
  {
   "cell_type": "code",
   "execution_count": null,
   "metadata": {},
   "outputs": [
    {
     "name": "stdout",
     "output_type": "stream",
     "text": [
      "Epoch 1/10\n"
     ]
    }
   ],
   "source": [
    "\n",
    "batch_size = 32\n",
    "hist = model.fit(np.array(x_train), np.array(y_train),\n",
    "                 epochs = EPOCHS, batch_size=BATCH_SIZE, verbose = 1,\n",
    "                 validation_data=(np.array(x_valid), np.array(y_valid)),\n",
    "                 shuffle=True)"
   ]
  },
  {
   "cell_type": "code",
   "execution_count": null,
   "metadata": {
    "collapsed": true
   },
   "outputs": [],
   "source": [
    "model.save('hotel-sentiment-model.hdf5')"
   ]
  }
 ],
 "metadata": {
  "kernelspec": {
   "display_name": "Python 3",
   "language": "python",
   "name": "python3"
  },
  "language_info": {
   "codemirror_mode": {
    "name": "ipython",
    "version": 3
   },
   "file_extension": ".py",
   "mimetype": "text/x-python",
   "name": "python",
   "nbconvert_exporter": "python",
   "pygments_lexer": "ipython3",
   "version": "3.6.2"
  }
 },
 "nbformat": 4,
 "nbformat_minor": 2
}
